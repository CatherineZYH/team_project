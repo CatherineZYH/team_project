{
 "cells": [
  {
   "cell_type": "markdown",
   "metadata": {},
   "source": [
    "# Asthma Diesase Project"
   ]
  },
  {
   "cell_type": "markdown",
   "metadata": {},
   "source": [
    "Possible models\n",
    "1. Random Forest\n",
    "2. SVM (Support Vector Machine)\n",
    "3. KNN"
   ]
  },
  {
   "cell_type": "code",
   "execution_count": null,
   "metadata": {},
   "outputs": [],
   "source": [
    "from sklearn.model_selection import train_test_split, GridSearchCV\n",
    "from sklearn.preprocessing import StandardScaler, OneHotEncoder\n",
    "from sklearn.compose import ColumnTransformer\n",
    "from sklearn.pipeline import Pipeline\n",
    "from sklearn.ensemble import RandomForestClassifier\n",
    "from sklearn.metrics import classification_report, roc_auc_score\n",
    "import pandas as pd\n",
    "from imblearn.over_sampling import SMOTE\n",
    "from sklearn.metrics import classification_report, accuracy_score\n",
    "\n",
    "# Path to your CSV file\n",
    "zip_file_path = r'C:\\Users\\Admin\\Downloads\\archive.zip'\n",
    "csv_file_name = 'asthma_disease_data.csv'\n",
    "\n",
    "# Read the CSV file\n",
    "data = pd.read_csv(zip_file_path)\n",
    "\n",
    "# Display the first few rows of the dataset\n",
    "print(data.head())\n",
    "\n",
    "\n",
    "# Drop confidential column\n",
    "data.drop(columns=['DoctorInCharge'], inplace=True)\n",
    "\n",
    "# Define features and target\n",
    "X = data.drop(columns=['Diagnosis', 'PatientID'])\n",
    "y = data['Diagnosis']\n",
    "\n",
    "# Define numerical and categorical columns\n",
    "numerical_cols = ['Age', 'BMI', 'PhysicalActivity', 'DietQuality', 'SleepQuality', 'PollutionExposure', 'PollenExposure', 'DustExposure', 'LungFunctionFEV1', 'LungFunctionFVC']\n",
    "categorical_cols = ['Gender', 'Ethnicity', 'EducationLevel', 'Smoking', 'PetAllergy', 'FamilyHistoryAsthma', 'HistoryOfAllergies', 'Eczema', 'HayFever', 'GastroesophagealReflux', 'Wheezing', 'ShortnessOfBreath', 'ChestTightness', 'Coughing', 'NighttimeSymptoms', 'ExerciseInduced']\n",
    "\n",
    "# Preprocessing\n",
    "preprocessor = ColumnTransformer(\n",
    "    transformers=[\n",
    "        ('num', StandardScaler(), numerical_cols),\n",
    "        ('cat', OneHotEncoder(), categorical_cols)\n",
    "    ])\n"
   ]
  },
  {
   "cell_type": "markdown",
   "metadata": {},
   "source": [
    "## Random forest model"
   ]
  },
  {
   "cell_type": "code",
   "execution_count": null,
   "metadata": {},
   "outputs": [],
   "source": [
    "# Random forest Model\n",
    "model = Pipeline(steps=[\n",
    "    ('preprocessor', preprocessor),\n",
    "    ('classifier', RandomForestClassifier(random_state=42))\n",
    "])\n",
    "\n",
    "# Split the data\n",
    "X_train, X_test, y_train, y_test = train_test_split(X, y, test_size=0.2, random_state=42)\n",
    "RandomForestClassifier(random_state=42, class_weight='balanced')\n",
    "\n",
    "#Training Model\n",
    "\n",
    "smote = SMOTE()\n",
    "X_resampled, y_resampled = smote.fit_resample(X_train, y_train)\n",
    "model.fit(X_resampled, y_resampled)\n",
    "\n",
    "model.fit(X_train, y_train)\n",
    "\n",
    "# Evaluate the model\n",
    "y_pred = model.predict(X_test)\n",
    "print(classification_report(y_test, y_pred))\n",
    "print(\"Accuracy:\", accuracy_score(y_test, y_pred))\n"
   ]
  },
  {
   "cell_type": "markdown",
   "metadata": {},
   "source": [
    "## Support Vector Model"
   ]
  },
  {
   "cell_type": "code",
   "execution_count": null,
   "metadata": {},
   "outputs": [],
   "source": [
    "import numpy as np\n",
    "from sklearn.preprocessing import StandardScaler\n",
    "from sklearn.svm import SVC\n",
    "from sklearn.metrics import classification_report, roc_auc_score\n",
    "from sklearn.model_selection import train_test_split\n",
    "import pandas as pd\n",
    "\n",
    "# Load the dataset\n",
    "file_path = r'C:\\Users\\Admin\\Downloads\\asthma_disease_data.csv'\n",
    "df = pd.read_csv(file_path)\n",
    " \n",
    "# Drop unnecessary columns\n",
    "df_cleaned = df.drop(columns=['PatientID', 'DoctorInCharge'])\n",
    " \n",
    "# Separate features and target\n",
    "X = df_cleaned.drop(columns=['Diagnosis'])\n",
    "y = df_cleaned['Diagnosis']\n",
    " \n",
    "# Train-test split\n",
    "X_train, X_test, y_train, y_test = train_test_split(X, y, test_size=0.3, random_state=42)\n",
    " \n",
    "# Feature scaling\n",
    "scaler = StandardScaler()\n",
    "X_train_scaled = scaler.fit_transform(X_train)\n",
    "X_test_scaled = scaler.transform(X_test)\n",
    " \n",
    "# Best SVM hyperparameters\n",
    "best_params = {'C': 0.1, 'gamma': 1, 'kernel': 'linear'}\n",
    "best_svc = SVC(**best_params)\n",
    " \n",
    "# Manually oversample the minority class in the training set\n",
    "class_0_indices = np.where(y_train == 0)[0]\n",
    "class_1_indices = np.where(y_train == 1)[0]\n",
    " \n",
    "# Resample the minority class to match the majority class\n",
    "oversampled_class_1_indices = np.random.choice(class_1_indices, size=len(class_0_indices), replace=True)\n",
    " \n",
    "# Combine indices\n",
    "oversampled_indices = np.concatenate([class_0_indices, oversampled_class_1_indices])\n",
    " \n",
    "# Create oversampled training set\n",
    "X_train_oversampled = X_train_scaled[oversampled_indices]\n",
    "y_train_oversampled = y_train.iloc[oversampled_indices]\n",
    " \n",
    "# Refit the SVM model with the best hyperparameters on the oversampled data\n",
    "best_svc.fit(X_train_oversampled, y_train_oversampled)\n",
    " \n",
    "# Predictions and Evaluation\n",
    "y_pred_oversampled = best_svc.predict(X_test_scaled)\n",
    "classification_rep_oversampled = classification_report(y_test, y_pred_oversampled)\n",
    "roc_auc_oversampled = roc_auc_score(y_test, best_svc.decision_function(X_test_scaled))\n",
    " \n",
    "print(\"Classification Report:\\n\", classification_rep_oversampled)\n",
    "print(\"ROC AUC Score:\", roc_auc_oversampled)"
   ]
  },
  {
   "cell_type": "markdown",
   "metadata": {},
   "source": [
    "## K-nearest neighbors Model"
   ]
  },
  {
   "cell_type": "code",
   "execution_count": null,
   "metadata": {},
   "outputs": [],
   "source": [
    "import statsmodels.api as sm\n",
    "import KNeighborsClassifier from sklearn.neighbors\n",
    "import random\n",
    "\n",
    "# print the summary of the data\n",
    "print(df.describe())\n",
    "\n",
    "random.seed(42)\n",
    "\n",
    "# Define the model k = 3\n",
    "knn3 = KNeighborsClassifier(n_neighbors=3)\n",
    "knn3.fit(X_train,y_train)\n",
    "\n",
    "# Prediction and evaluation\n",
    "predictions = knn3.predict(X_test)\n",
    "accuracy_rate = knn3.score(X_test,y_test)\n",
    "print(accuracy_rate)"
   ]
  }
 ],
 "metadata": {
  "language_info": {
   "name": "python"
  }
 },
 "nbformat": 4,
 "nbformat_minor": 2
}
